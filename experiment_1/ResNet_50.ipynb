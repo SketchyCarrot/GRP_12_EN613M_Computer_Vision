{
  "cells": [
    {
      "cell_type": "markdown",
      "metadata": {},
      "source": [
        "# ResNet50\n",
        "#### tensorflow==2.10.0"
      ]
    },
    {
      "cell_type": "code",
      "execution_count": 13,
      "metadata": {
        "id": "z2bKKG1PcecV"
      },
      "outputs": [],
      "source": [
        "import matplotlib.pyplot as plt\n",
        "import tensorflow as tf\n",
        "from keras.callbacks import EarlyStopping\n",
        "from tensorflow.keras.preprocessing.image import ImageDataGenerator\n",
        "from tensorflow.keras.models import Sequential\n",
        "from tensorflow.keras.layers import Flatten, Dense, BatchNormalization, Dropout"
      ]
    },
    {
      "cell_type": "code",
      "execution_count": 14,
      "metadata": {
        "id": "7mws7mKXcqC8"
      },
      "outputs": [],
      "source": [
        "train_dir = r\"C:\\Users\\91909\\Desktop\\ML\\DATA\\PlantVillage-Dataset-master\\PlantVillage-Dataset-master\\raw\\PLANT_VILLAGE_SPLIT\\train\"\n",
        "test_dir = r\"C:\\Users\\91909\\Desktop\\ML\\DATA\\PlantVillage-Dataset-master\\PlantVillage-Dataset-master\\raw\\PLANT_VILLAGE_SPLIT\\test\"\n",
        "val_dir = r\"C:\\Users\\91909\\Desktop\\ML\\DATA\\PlantVillage-Dataset-master\\PlantVillage-Dataset-master\\raw\\PLANT_VILLAGE_SPLIT\\val\""
      ]
    },
    {
      "cell_type": "code",
      "execution_count": 15,
      "metadata": {
        "id": "LLfCLvDGcsCN"
      },
      "outputs": [],
      "source": [
        "IMAGE_SIZE = (224, 224)\n",
        "BATCH_SIZE = 16"
      ]
    },
    {
      "cell_type": "code",
      "execution_count": 16,
      "metadata": {
        "id": "eqOSSk-Uc7XK"
      },
      "outputs": [],
      "source": [
        "def preprocess_function(image):\n",
        "    image = tf.image.convert_image_dtype(image, dtype=tf.float32)\n",
        "    return image"
      ]
    },
    {
      "cell_type": "code",
      "execution_count": 17,
      "metadata": {
        "id": "b9pzV0SveAar"
      },
      "outputs": [],
      "source": [
        "datagen = ImageDataGenerator(rescale=1.0/255,\n",
        "                             preprocessing_function=preprocess_function)"
      ]
    },
    {
      "cell_type": "code",
      "execution_count": 18,
      "metadata": {
        "colab": {
          "base_uri": "https://localhost:8080/"
        },
        "id": "Caw8R3GMc9Vh",
        "outputId": "b4a86c55-0d90-438e-a786-0c1b323ed045"
      },
      "outputs": [
        {
          "name": "stdout",
          "output_type": "stream",
          "text": [
            "Found 32572 images belonging to 38 classes.\n",
            "Found 10849 images belonging to 38 classes.\n",
            "Found 10885 images belonging to 38 classes.\n"
          ]
        }
      ],
      "source": [
        "train_generator = datagen.flow_from_directory(\n",
        "    train_dir,\n",
        "    target_size=IMAGE_SIZE,\n",
        "    batch_size=BATCH_SIZE,\n",
        "    class_mode='categorical'\n",
        ")\n",
        "\n",
        "val_generator = datagen.flow_from_directory(\n",
        "    val_dir,\n",
        "    target_size=IMAGE_SIZE,\n",
        "    batch_size=BATCH_SIZE,\n",
        "    class_mode='categorical'\n",
        ")\n",
        "\n",
        "test_generator = datagen.flow_from_directory(\n",
        "    test_dir,\n",
        "    target_size=IMAGE_SIZE,\n",
        "    batch_size=BATCH_SIZE,\n",
        "    class_mode='categorical'\n",
        ")"
      ]
    },
    {
      "cell_type": "code",
      "execution_count": 20,
      "metadata": {
        "id": "m-GVyrDBdK2-"
      },
      "outputs": [],
      "source": [
        "from tensorflow.keras.applications import ResNet50"
      ]
    },
    {
      "cell_type": "code",
      "execution_count": null,
      "metadata": {
        "id": "VXcew2HZdP2y"
      },
      "outputs": [],
      "source": [
        "base_model = ResNet50(weights='imagenet' ,include_top=False , input_shape=(224, 224, 3), pooling='max' )\n",
        "\n",
        "model = Sequential()\n",
        "model.add(base_model)\n",
        "\n",
        "model.add(Flatten())\n",
        "model.add(BatchNormalization())\n",
        "model.add(Dense(1024, activation='relu'))\n",
        "model.add(BatchNormalization())\n",
        "model.add(Dropout(0.5))\n",
        "model.add(Dense(512, activation='relu'))\n",
        "model.add(BatchNormalization())\n",
        "model.add(Dropout(0.3))\n",
        "model.add(Dense(256, activation='relu'))\n",
        "model.add(BatchNormalization())\n",
        "model.add(Dropout(0.2))\n",
        "model.add(Dense(64, activation='relu'))\n",
        "model.add(BatchNormalization())\n",
        "model.add(Dense(38, activation='softmax'))\n",
        "\n",
        "for layer in base_model.layers:\n",
        "    layer.trainable = False"
      ]
    },
    {
      "cell_type": "code",
      "execution_count": 27,
      "metadata": {
        "id": "2O-9syojdUEZ"
      },
      "outputs": [],
      "source": [
        "model.compile(tf.keras.optimizers.Adam(learning_rate = 0.001),\n",
        "              loss='categorical_crossentropy',\n",
        "              metrics=['accuracy'])"
      ]
    },
    {
      "cell_type": "code",
      "execution_count": 28,
      "metadata": {
        "colab": {
          "base_uri": "https://localhost:8080/",
          "height": 514
        },
        "id": "SVbEd_-9dUpz",
        "outputId": "3bb7c8b1-4886-48c8-d60c-4c9d7a1a8fa6"
      },
      "outputs": [
        {
          "name": "stdout",
          "output_type": "stream",
          "text": [
            "Model: \"sequential_1\"\n",
            "_________________________________________________________________\n",
            " Layer (type)                Output Shape              Param #   \n",
            "=================================================================\n",
            " resnet50 (Functional)       (None, 2048)              23587712  \n",
            "                                                                 \n",
            " flatten_1 (Flatten)         (None, 2048)              0         \n",
            "                                                                 \n",
            " batch_normalization_3 (Batc  (None, 2048)             8192      \n",
            " hNormalization)                                                 \n",
            "                                                                 \n",
            " dense_3 (Dense)             (None, 1024)              2098176   \n",
            "                                                                 \n",
            " batch_normalization_4 (Batc  (None, 1024)             4096      \n",
            " hNormalization)                                                 \n",
            "                                                                 \n",
            " dropout_2 (Dropout)         (None, 1024)              0         \n",
            "                                                                 \n",
            " dense_4 (Dense)             (None, 512)               524800    \n",
            "                                                                 \n",
            " batch_normalization_5 (Batc  (None, 512)              2048      \n",
            " hNormalization)                                                 \n",
            "                                                                 \n",
            " dropout_3 (Dropout)         (None, 512)               0         \n",
            "                                                                 \n",
            " dense_5 (Dense)             (None, 256)               131328    \n",
            "                                                                 \n",
            " batch_normalization_6 (Batc  (None, 256)              1024      \n",
            " hNormalization)                                                 \n",
            "                                                                 \n",
            " dropout_4 (Dropout)         (None, 256)               0         \n",
            "                                                                 \n",
            " dense_6 (Dense)             (None, 64)                16448     \n",
            "                                                                 \n",
            " batch_normalization_7 (Batc  (None, 64)               256       \n",
            " hNormalization)                                                 \n",
            "                                                                 \n",
            " dense_7 (Dense)             (None, 38)                2470      \n",
            "                                                                 \n",
            "=================================================================\n",
            "Total params: 26,376,550\n",
            "Trainable params: 2,781,030\n",
            "Non-trainable params: 23,595,520\n",
            "_________________________________________________________________\n"
          ]
        }
      ],
      "source": [
        "model.build(input_shape=(None, 224, 224, 3))\n",
        "model.summary()"
      ]
    },
    {
      "cell_type": "code",
      "execution_count": 29,
      "metadata": {
        "id": "zIcBm3OmdXPC"
      },
      "outputs": [],
      "source": [
        "early_stopping = EarlyStopping(monitor='val_loss', min_delta=0.005, patience=5, restore_best_weights=True)"
      ]
    },
    {
      "cell_type": "code",
      "execution_count": 30,
      "metadata": {
        "colab": {
          "base_uri": "https://localhost:8080/"
        },
        "id": "o0EAqGt7dZl1",
        "outputId": "f4a36262-b9cf-4965-ccc1-d107ef36bc1e"
      },
      "outputs": [
        {
          "name": "stdout",
          "output_type": "stream",
          "text": [
            "Epoch 1/50\n",
            "2036/2036 [==============================] - 487s 236ms/step - loss: 1.8747 - accuracy: 0.4723 - val_loss: 1.1421 - val_accuracy: 0.6529\n",
            "Epoch 2/50\n",
            "2036/2036 [==============================] - 466s 229ms/step - loss: 1.3854 - accuracy: 0.5819 - val_loss: 0.9698 - val_accuracy: 0.7027\n",
            "Epoch 3/50\n",
            "2036/2036 [==============================] - 451s 222ms/step - loss: 1.2274 - accuracy: 0.6260 - val_loss: 0.8842 - val_accuracy: 0.7188\n",
            "Epoch 4/50\n",
            "2036/2036 [==============================] - 433s 213ms/step - loss: 1.1350 - accuracy: 0.6536 - val_loss: 0.8362 - val_accuracy: 0.7392\n",
            "Epoch 5/50\n",
            "2036/2036 [==============================] - 430s 211ms/step - loss: 1.0522 - accuracy: 0.6754 - val_loss: 0.7969 - val_accuracy: 0.7506\n",
            "Epoch 6/50\n",
            "2036/2036 [==============================] - 433s 213ms/step - loss: 0.9948 - accuracy: 0.6913 - val_loss: 0.7473 - val_accuracy: 0.7636\n",
            "Epoch 7/50\n",
            "2036/2036 [==============================] - 431s 212ms/step - loss: 0.9526 - accuracy: 0.7030 - val_loss: 0.7467 - val_accuracy: 0.7663\n",
            "Epoch 8/50\n",
            "2036/2036 [==============================] - 428s 210ms/step - loss: 0.9110 - accuracy: 0.7158 - val_loss: 0.7057 - val_accuracy: 0.7774\n",
            "Epoch 9/50\n",
            "2036/2036 [==============================] - 453s 223ms/step - loss: 0.8785 - accuracy: 0.7241 - val_loss: 0.7065 - val_accuracy: 0.7799\n",
            "Epoch 10/50\n",
            "2036/2036 [==============================] - 456s 224ms/step - loss: 0.8565 - accuracy: 0.7295 - val_loss: 0.6958 - val_accuracy: 0.7817\n",
            "Epoch 11/50\n",
            "2036/2036 [==============================] - 465s 228ms/step - loss: 0.8177 - accuracy: 0.7408 - val_loss: 0.6963 - val_accuracy: 0.7859\n",
            "Epoch 12/50\n",
            "2036/2036 [==============================] - 450s 221ms/step - loss: 0.7923 - accuracy: 0.7483 - val_loss: 0.7006 - val_accuracy: 0.7832\n",
            "Epoch 13/50\n",
            "2036/2036 [==============================] - 468s 230ms/step - loss: 0.7757 - accuracy: 0.7560 - val_loss: 0.6899 - val_accuracy: 0.7874\n",
            "Epoch 14/50\n",
            "2036/2036 [==============================] - 448s 220ms/step - loss: 0.7609 - accuracy: 0.7587 - val_loss: 0.6762 - val_accuracy: 0.7914\n",
            "Epoch 15/50\n",
            "2036/2036 [==============================] - 471s 231ms/step - loss: 0.7312 - accuracy: 0.7678 - val_loss: 0.6704 - val_accuracy: 0.7982\n",
            "Epoch 16/50\n",
            "2036/2036 [==============================] - 486s 239ms/step - loss: 0.7289 - accuracy: 0.7667 - val_loss: 0.6654 - val_accuracy: 0.7977\n",
            "Epoch 17/50\n",
            "2036/2036 [==============================] - 446s 219ms/step - loss: 0.6996 - accuracy: 0.7771 - val_loss: 0.6607 - val_accuracy: 0.7992\n",
            "Epoch 18/50\n",
            "2036/2036 [==============================] - 461s 226ms/step - loss: 0.6842 - accuracy: 0.7811 - val_loss: 0.6583 - val_accuracy: 0.8000\n",
            "Epoch 19/50\n",
            "2036/2036 [==============================] - 488s 240ms/step - loss: 0.6758 - accuracy: 0.7837 - val_loss: 0.6669 - val_accuracy: 0.8033\n",
            "Epoch 20/50\n",
            "2036/2036 [==============================] - 604s 297ms/step - loss: 0.6550 - accuracy: 0.7918 - val_loss: 0.6635 - val_accuracy: 0.8043\n",
            "Epoch 21/50\n",
            "2036/2036 [==============================] - 442s 217ms/step - loss: 0.6504 - accuracy: 0.7914 - val_loss: 0.6464 - val_accuracy: 0.8073\n",
            "Epoch 22/50\n",
            "2036/2036 [==============================] - 442s 217ms/step - loss: 0.6421 - accuracy: 0.7927 - val_loss: 0.6620 - val_accuracy: 0.8047\n",
            "Epoch 23/50\n",
            "2036/2036 [==============================] - 442s 217ms/step - loss: 0.6324 - accuracy: 0.7961 - val_loss: 0.6544 - val_accuracy: 0.8062\n",
            "Epoch 24/50\n",
            "2036/2036 [==============================] - 443s 218ms/step - loss: 0.6242 - accuracy: 0.7985 - val_loss: 0.6623 - val_accuracy: 0.8050\n",
            "Epoch 25/50\n",
            "2036/2036 [==============================] - 446s 219ms/step - loss: 0.6149 - accuracy: 0.8031 - val_loss: 0.6592 - val_accuracy: 0.8074\n",
            "Epoch 26/50\n",
            "2036/2036 [==============================] - 446s 219ms/step - loss: 0.5928 - accuracy: 0.8077 - val_loss: 0.6582 - val_accuracy: 0.8111\n"
          ]
        }
      ],
      "source": [
        "history = model.fit(\n",
        "    train_generator,\n",
        "    validation_data=val_generator,\n",
        "    epochs=50,\n",
        "    callbacks=[early_stopping]\n",
        ")"
      ]
    },
    {
      "cell_type": "code",
      "execution_count": 31,
      "metadata": {
        "colab": {
          "base_uri": "https://localhost:8080/",
          "height": 255
        },
        "id": "OQZcXf0egs4a",
        "outputId": "ef695720-c508-4a7d-af89-fb2e2a352b20"
      },
      "outputs": [
        {
          "data": {
            "image/png": "[encoded data removed]",
            "text/plain": [
              "<Figure size 1500x500 with 2 Axes>"
            ]
          },
          "metadata": {},
          "output_type": "display_data"
        }
      ],
      "source": [
        "def printplot(history):\n",
        "        plt.figure(figsize=(15, 5))\n",
        "        plt.subplot(1, 2, 1)\n",
        "        plt.plot(history.history[\"accuracy\"], color=\"red\", label=\"train\")\n",
        "        plt.plot(history.history[\"val_accuracy\"], color=\"green\", label=\"validation\", linestyle=\"dashed\")\n",
        "        plt.title(\"Graph of accuracy over epochs\")\n",
        "        plt.legend()\n",
        "\n",
        "        plt.subplot(1, 2, 2)\n",
        "        plt.plot(history.history[\"loss\"], color=\"red\", label=\"train\")\n",
        "        plt.plot(history.history[\"val_loss\"], color=\"green\", label=\"validation\", linestyle=\"dashed\")\n",
        "        plt.title(\"Graph of loss over epochs\")\n",
        "        plt.legend()\n",
        "\n",
        "printplot(history)"
      ]
    },
    {
      "cell_type": "code",
      "execution_count": 32,
      "metadata": {
        "colab": {
          "base_uri": "https://localhost:8080/"
        },
        "id": "UBj0116rdf8D",
        "outputId": "f68ff3a8-2e24-4e04-d387-7d9fc4386286"
      },
      "outputs": [],
      "source": [
        "model.save(\"RESNET.h5\")"
      ]
    },
    {
      "cell_type": "code",
      "execution_count": 33,
      "metadata": {
        "colab": {
          "base_uri": "https://localhost:8080/"
        },
        "id": "_s_uxfxBek93",
        "outputId": "d14dfaf2-dc1a-4111-f074-ca03eb7bfa69"
      },
      "outputs": [
        {
          "name": "stdout",
          "output_type": "stream",
          "text": [
            "681/681 [==============================] - 118s 173ms/step - loss: 0.6785 - accuracy: 0.8048\n",
            "Test Accuracy: 80.48%\n",
            "Test Loss: 0.6785\n"
          ]
        }
      ],
      "source": [
        "test_loss, test_accuracy = model.evaluate(test_generator)\n",
        "\n",
        "print(f\"Test Accuracy: {test_accuracy * 100:.2f}%\")\n",
        "print(f\"Test Loss: {test_loss:.4f}\")"
      ]
    }
  ],
  "metadata": {
    "accelerator": "GPU",
    "colab": {
      "gpuType": "T4",
      "provenance": []
    },
    "kernelspec": {
      "display_name": "Python 3",
      "name": "python3"
    },
    "language_info": {
      "name": "python",
      "version": "3.10.0"
    }
  },
  "nbformat": 4,
  "nbformat_minor": 0
}

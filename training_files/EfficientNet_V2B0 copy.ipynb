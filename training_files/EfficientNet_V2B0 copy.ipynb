{
  "cells": [
    {
      "cell_type": "markdown",
      "metadata": {
        "id": "5DDQupJ3l9pm"
      },
      "source": [
        "# EfficientNet V2B0\n",
        "#### tensorflow==2.18.0"
      ]
    },
    {
      "cell_type": "code",
      "execution_count": 76,
      "metadata": {
        "id": "z2bKKG1PcecV"
      },
      "outputs": [],
      "source": [
        "import os\n",
        "import numpy as np\n",
        "import matplotlib.pyplot as plt\n",
        "import tensorflow as tf\n",
        "import cv2\n",
        "from tensorflow import keras\n",
        "from keras.callbacks import EarlyStopping\n",
        "from tensorflow.keras.preprocessing.image import ImageDataGenerator\n",
        "from tensorflow.keras.models import Model\n",
        "from tensorflow.keras.layers import Input, Conv2D, MaxPooling2D, UpSampling2D, BatchNormalization, Activation"
      ]
    },
    {
      "cell_type": "code",
      "execution_count": 77,
      "metadata": {
        "id": "7mws7mKXcqC8"
      },
      "outputs": [],
      "source": [
        "train_dir = r\"C:\\Users\\91909\\Desktop\\ML\\DATA\\PlantVillage-Dataset-master\\PlantVillage-Dataset-master\\raw\\PLANT_VILLAGE_SPLIT\\train\"\n",
        "test_dir = r\"C:\\Users\\91909\\Desktop\\ML\\DATA\\PlantVillage-Dataset-master\\PlantVillage-Dataset-master\\raw\\PLANT_VILLAGE_SPLIT\\test\"\n",
        "val_dir = r\"C:\\Users\\91909\\Desktop\\ML\\DATA\\PlantVillage-Dataset-master\\PlantVillage-Dataset-master\\raw\\PLANT_VILLAGE_SPLIT\\val\""
      ]
    },
    {
      "cell_type": "code",
      "execution_count": 78,
      "metadata": {
        "id": "LLfCLvDGcsCN"
      },
      "outputs": [],
      "source": [
        "IMAGE_SIZE = (224, 224)\n",
        "BATCH_SIZE = 4"
      ]
    },
    {
      "cell_type": "code",
      "execution_count": 79,
      "metadata": {
        "id": "eqOSSk-Uc7XK"
      },
      "outputs": [],
      "source": [
        "def preprocess_function(image):\n",
        "    image = tf.image.convert_image_dtype(image, dtype=tf.float32)\n",
        "    return image"
      ]
    },
    {
      "cell_type": "code",
      "execution_count": 80,
      "metadata": {
        "id": "b9pzV0SveAar"
      },
      "outputs": [],
      "source": [
        "datagen = ImageDataGenerator(rescale=1.0/255,\n",
        "                             preprocessing_function=preprocess_function)"
      ]
    },
    {
      "cell_type": "code",
      "execution_count": 81,
      "metadata": {
        "colab": {
          "base_uri": "https://localhost:8080/"
        },
        "id": "Caw8R3GMc9Vh",
        "outputId": "c6e5f3e4-c261-466a-86ff-37f847c4fab2"
      },
      "outputs": [
        {
          "name": "stdout",
          "output_type": "stream",
          "text": [
            "Found 32572 images belonging to 38 classes.\n",
            "Found 10849 images belonging to 38 classes.\n",
            "Found 10885 images belonging to 38 classes.\n"
          ]
        }
      ],
      "source": [
        "train_generator = datagen.flow_from_directory(\n",
        "    train_dir,\n",
        "    target_size=IMAGE_SIZE,\n",
        "    batch_size=BATCH_SIZE,\n",
        "    class_mode='categorical'\n",
        ")\n",
        "\n",
        "val_generator = datagen.flow_from_directory(\n",
        "    val_dir,\n",
        "    target_size=IMAGE_SIZE,\n",
        "    batch_size=BATCH_SIZE,\n",
        "    class_mode='categorical'\n",
        ")\n",
        "\n",
        "test_generator = datagen.flow_from_directory(\n",
        "    test_dir,\n",
        "    target_size=IMAGE_SIZE,\n",
        "    batch_size=BATCH_SIZE,\n",
        "    class_mode='categorical'\n",
        ")"
      ]
    },
    {
      "cell_type": "code",
      "execution_count": 82,
      "metadata": {
        "id": "VXcew2HZdP2y"
      },
      "outputs": [],
      "source": [
        "def encoder_block(x, filters):\n",
        "    x = Conv2D(filters, (3, 3), padding='same')(x)\n",
        "    x = BatchNormalization()(x)\n",
        "    x = Activation('relu')(x)\n",
        "    x = Conv2D(filters, (3, 3), padding='same')(x)\n",
        "    x = BatchNormalization()(x)\n",
        "    x = Activation('relu')(x)\n",
        "    x = MaxPooling2D((2, 2), strides=(2, 2))(x)\n",
        "    return x\n",
        "\n",
        "def decoder_block(x, filters):\n",
        "    x = UpSampling2D((2, 2))(x)\n",
        "    x = Conv2D(filters, (3, 3), padding='same')(x)\n",
        "    x = BatchNormalization()(x)\n",
        "    x = Activation('relu')(x)\n",
        "    x = Conv2D(filters, (3, 3), padding='same')(x)\n",
        "    x = BatchNormalization()(x)\n",
        "    x = Activation('relu')(x)\n",
        "    return x"
      ]
    },
    {
      "cell_type": "code",
      "execution_count": 83,
      "metadata": {},
      "outputs": [],
      "source": [
        "inputs = Input(shape=(224, 224, 3))\n",
        "\n",
        "e1 = encoder_block(inputs, 32)\n",
        "e2 = encoder_block(e1, 64)\n",
        "e3 = encoder_block(e2, 128)\n",
        "e4 = encoder_block(e3, 256)\n",
        "\n",
        "b = Conv2D(512, (3, 3), padding='same')(e4)\n",
        "b = BatchNormalization()(b)\n",
        "b = Activation('relu')(b)\n",
        "\n",
        "d4 = decoder_block(b, 256)\n",
        "d3 = decoder_block(d4, 128)\n",
        "d2 = decoder_block(d3, 64)\n",
        "d1 = decoder_block(d2, 32)\n",
        "\n",
        "outputs = Conv2D(38, (1, 1), activation='softmax')(d1)  \n",
        "outputs = tf.keras.layers.GlobalAveragePooling2D()(outputs)\n",
        "\n",
        "model = Model(inputs, outputs)"
      ]
    },
    {
      "cell_type": "code",
      "execution_count": 84,
      "metadata": {
        "id": "2O-9syojdUEZ"
      },
      "outputs": [],
      "source": [
        "model.compile(tf.keras.optimizers.Adam(learning_rate = 0.001),\n",
        "              loss='categorical_crossentropy',\n",
        "              metrics=['accuracy'])"
      ]
    },
    {
      "cell_type": "code",
      "execution_count": 85,
      "metadata": {
        "colab": {
          "base_uri": "https://localhost:8080/",
          "height": 689
        },
        "id": "SVbEd_-9dUpz",
        "outputId": "1f7fbf12-ab85-4e05-bbd8-d334d1f0af44"
      },
      "outputs": [
        {
          "name": "stdout",
          "output_type": "stream",
          "text": [
            "Model: \"model_9\"\n",
            "_________________________________________________________________\n",
            " Layer (type)                Output Shape              Param #   \n",
            "=================================================================\n",
            " input_10 (InputLayer)       [(None, 224, 224, 3)]     0         \n",
            "                                                                 \n",
            " conv2d_162 (Conv2D)         (None, 224, 224, 32)      896       \n",
            "                                                                 \n",
            " batch_normalization_153 (Ba  (None, 224, 224, 32)     128       \n",
            " tchNormalization)                                               \n",
            "                                                                 \n",
            " activation_153 (Activation)  (None, 224, 224, 32)     0         \n",
            "                                                                 \n",
            " conv2d_163 (Conv2D)         (None, 224, 224, 32)      9248      \n",
            "                                                                 \n",
            " batch_normalization_154 (Ba  (None, 224, 224, 32)     128       \n",
            " tchNormalization)                                               \n",
            "                                                                 \n",
            " activation_154 (Activation)  (None, 224, 224, 32)     0         \n",
            "                                                                 \n",
            " max_pooling2d_36 (MaxPoolin  (None, 112, 112, 32)     0         \n",
            " g2D)                                                            \n",
            "                                                                 \n",
            " conv2d_164 (Conv2D)         (None, 112, 112, 64)      18496     \n",
            "                                                                 \n",
            " batch_normalization_155 (Ba  (None, 112, 112, 64)     256       \n",
            " tchNormalization)                                               \n",
            "                                                                 \n",
            " activation_155 (Activation)  (None, 112, 112, 64)     0         \n",
            "                                                                 \n",
            " conv2d_165 (Conv2D)         (None, 112, 112, 64)      36928     \n",
            "                                                                 \n",
            " batch_normalization_156 (Ba  (None, 112, 112, 64)     256       \n",
            " tchNormalization)                                               \n",
            "                                                                 \n",
            " activation_156 (Activation)  (None, 112, 112, 64)     0         \n",
            "                                                                 \n",
            " max_pooling2d_37 (MaxPoolin  (None, 56, 56, 64)       0         \n",
            " g2D)                                                            \n",
            "                                                                 \n",
            " conv2d_166 (Conv2D)         (None, 56, 56, 128)       73856     \n",
            "                                                                 \n",
            " batch_normalization_157 (Ba  (None, 56, 56, 128)      512       \n",
            " tchNormalization)                                               \n",
            "                                                                 \n",
            " activation_157 (Activation)  (None, 56, 56, 128)      0         \n",
            "                                                                 \n",
            " conv2d_167 (Conv2D)         (None, 56, 56, 128)       147584    \n",
            "                                                                 \n",
            " batch_normalization_158 (Ba  (None, 56, 56, 128)      512       \n",
            " tchNormalization)                                               \n",
            "                                                                 \n",
            " activation_158 (Activation)  (None, 56, 56, 128)      0         \n",
            "                                                                 \n",
            " max_pooling2d_38 (MaxPoolin  (None, 28, 28, 128)      0         \n",
            " g2D)                                                            \n",
            "                                                                 \n",
            " conv2d_168 (Conv2D)         (None, 28, 28, 256)       295168    \n",
            "                                                                 \n",
            " batch_normalization_159 (Ba  (None, 28, 28, 256)      1024      \n",
            " tchNormalization)                                               \n",
            "                                                                 \n",
            " activation_159 (Activation)  (None, 28, 28, 256)      0         \n",
            "                                                                 \n",
            " conv2d_169 (Conv2D)         (None, 28, 28, 256)       590080    \n",
            "                                                                 \n",
            " batch_normalization_160 (Ba  (None, 28, 28, 256)      1024      \n",
            " tchNormalization)                                               \n",
            "                                                                 \n",
            " activation_160 (Activation)  (None, 28, 28, 256)      0         \n",
            "                                                                 \n",
            " max_pooling2d_39 (MaxPoolin  (None, 14, 14, 256)      0         \n",
            " g2D)                                                            \n",
            "                                                                 \n",
            " conv2d_170 (Conv2D)         (None, 14, 14, 512)       1180160   \n",
            "                                                                 \n",
            " batch_normalization_161 (Ba  (None, 14, 14, 512)      2048      \n",
            " tchNormalization)                                               \n",
            "                                                                 \n",
            " activation_161 (Activation)  (None, 14, 14, 512)      0         \n",
            "                                                                 \n",
            " up_sampling2d_36 (UpSamplin  (None, 28, 28, 512)      0         \n",
            " g2D)                                                            \n",
            "                                                                 \n",
            " conv2d_171 (Conv2D)         (None, 28, 28, 256)       1179904   \n",
            "                                                                 \n",
            " batch_normalization_162 (Ba  (None, 28, 28, 256)      1024      \n",
            " tchNormalization)                                               \n",
            "                                                                 \n",
            " activation_162 (Activation)  (None, 28, 28, 256)      0         \n",
            "                                                                 \n",
            " conv2d_172 (Conv2D)         (None, 28, 28, 256)       590080    \n",
            "                                                                 \n",
            " batch_normalization_163 (Ba  (None, 28, 28, 256)      1024      \n",
            " tchNormalization)                                               \n",
            "                                                                 \n",
            " activation_163 (Activation)  (None, 28, 28, 256)      0         \n",
            "                                                                 \n",
            " up_sampling2d_37 (UpSamplin  (None, 56, 56, 256)      0         \n",
            " g2D)                                                            \n",
            "                                                                 \n",
            " conv2d_173 (Conv2D)         (None, 56, 56, 128)       295040    \n",
            "                                                                 \n",
            " batch_normalization_164 (Ba  (None, 56, 56, 128)      512       \n",
            " tchNormalization)                                               \n",
            "                                                                 \n",
            " activation_164 (Activation)  (None, 56, 56, 128)      0         \n",
            "                                                                 \n",
            " conv2d_174 (Conv2D)         (None, 56, 56, 128)       147584    \n",
            "                                                                 \n",
            " batch_normalization_165 (Ba  (None, 56, 56, 128)      512       \n",
            " tchNormalization)                                               \n",
            "                                                                 \n",
            " activation_165 (Activation)  (None, 56, 56, 128)      0         \n",
            "                                                                 \n",
            " up_sampling2d_38 (UpSamplin  (None, 112, 112, 128)    0         \n",
            " g2D)                                                            \n",
            "                                                                 \n",
            " conv2d_175 (Conv2D)         (None, 112, 112, 64)      73792     \n",
            "                                                                 \n",
            " batch_normalization_166 (Ba  (None, 112, 112, 64)     256       \n",
            " tchNormalization)                                               \n",
            "                                                                 \n",
            " activation_166 (Activation)  (None, 112, 112, 64)     0         \n",
            "                                                                 \n",
            " conv2d_176 (Conv2D)         (None, 112, 112, 64)      36928     \n",
            "                                                                 \n",
            " batch_normalization_167 (Ba  (None, 112, 112, 64)     256       \n",
            " tchNormalization)                                               \n",
            "                                                                 \n",
            " activation_167 (Activation)  (None, 112, 112, 64)     0         \n",
            "                                                                 \n",
            " up_sampling2d_39 (UpSamplin  (None, 224, 224, 64)     0         \n",
            " g2D)                                                            \n",
            "                                                                 \n",
            " conv2d_177 (Conv2D)         (None, 224, 224, 32)      18464     \n",
            "                                                                 \n",
            " batch_normalization_168 (Ba  (None, 224, 224, 32)     128       \n",
            " tchNormalization)                                               \n",
            "                                                                 \n",
            " activation_168 (Activation)  (None, 224, 224, 32)     0         \n",
            "                                                                 \n",
            " conv2d_178 (Conv2D)         (None, 224, 224, 32)      9248      \n",
            "                                                                 \n",
            " batch_normalization_169 (Ba  (None, 224, 224, 32)     128       \n",
            " tchNormalization)                                               \n",
            "                                                                 \n",
            " activation_169 (Activation)  (None, 224, 224, 32)     0         \n",
            "                                                                 \n",
            " conv2d_179 (Conv2D)         (None, 224, 224, 38)      1254      \n",
            "                                                                 \n",
            " global_average_pooling2d (G  (None, 38)               0         \n",
            " lobalAveragePooling2D)                                          \n",
            "                                                                 \n",
            "=================================================================\n",
            "Total params: 4,714,438\n",
            "Trainable params: 4,709,574\n",
            "Non-trainable params: 4,864\n",
            "_________________________________________________________________\n"
          ]
        }
      ],
      "source": [
        "model.summary()"
      ]
    },
    {
      "cell_type": "code",
      "execution_count": 86,
      "metadata": {
        "id": "zIcBm3OmdXPC"
      },
      "outputs": [],
      "source": [
        "early_stopping = EarlyStopping(monitor='val_loss', min_delta=0.005, patience=5, restore_best_weights=True)"
      ]
    },
    {
      "cell_type": "code",
      "execution_count": null,
      "metadata": {
        "colab": {
          "base_uri": "https://localhost:8080/"
        },
        "id": "o0EAqGt7dZl1",
        "outputId": "d7e1e27e-e2bd-4cf4-a0b5-d6ed097b7bed"
      },
      "outputs": [
        {
          "name": "stdout",
          "output_type": "stream",
          "text": [
            "Epoch 1/50\n",
            "8143/8143 [==============================] - 1354s 166ms/step - loss: 2.7811 - accuracy: 0.2500 - val_loss: 2.3782 - val_accuracy: 0.3067\n",
            "Epoch 2/50\n",
            "1990/8143 [======>.......................] - ETA: 14:56 - loss: 2.3325 - accuracy: 0.3525"
          ]
        }
      ],
      "source": [
        "history = model.fit(\n",
        "    train_generator,\n",
        "    validation_data=val_generator,\n",
        "    epochs=50,\n",
        "    callbacks=[early_stopping]\n",
        ")"
      ]
    },
    {
      "cell_type": "code",
      "execution_count": null,
      "metadata": {
        "colab": {
          "base_uri": "https://localhost:8080/",
          "height": 427
        },
        "id": "OQZcXf0egs4a",
        "outputId": "b37f6a39-c720-4180-9475-1f35d2a7ef7a"
      },
      "outputs": [
        {
          "ename": "NameError",
          "evalue": "name 'history' is not defined",
          "output_type": "error",
          "traceback": [
            "\u001b[1;31m---------------------------------------------------------------------------\u001b[0m",
            "\u001b[1;31mNameError\u001b[0m                                 Traceback (most recent call last)",
            "Cell \u001b[1;32mIn[22], line 15\u001b[0m\n\u001b[0;32m     12\u001b[0m         plt\u001b[38;5;241m.\u001b[39mtitle(\u001b[38;5;124m\"\u001b[39m\u001b[38;5;124mGraph of loss over epochs\u001b[39m\u001b[38;5;124m\"\u001b[39m)\n\u001b[0;32m     13\u001b[0m         plt\u001b[38;5;241m.\u001b[39mlegend()\n\u001b[1;32m---> 15\u001b[0m printplot(\u001b[43mhistory\u001b[49m)\n",
            "\u001b[1;31mNameError\u001b[0m: name 'history' is not defined"
          ]
        }
      ],
      "source": [
        "def printplot(history):\n",
        "        plt.figure(figsize=(15, 5))\n",
        "        plt.subplot(1, 2, 1)\n",
        "        plt.plot(history.history[\"accuracy\"], color=\"red\", label=\"train\")\n",
        "        plt.plot(history.history[\"val_accuracy\"], color=\"green\", label=\"validation\", linestyle=\"dashed\")\n",
        "        plt.title(\"Graph of accuracy over epochs\")\n",
        "        plt.legend()\n",
        "\n",
        "        plt.subplot(1, 2, 2)\n",
        "        plt.plot(history.history[\"loss\"], color=\"red\", label=\"train\")\n",
        "        plt.plot(history.history[\"val_loss\"], color=\"green\", label=\"validation\", linestyle=\"dashed\")\n",
        "        plt.title(\"Graph of loss over epochs\")\n",
        "        plt.legend()\n",
        "\n",
        "printplot(history)"
      ]
    },
    {
      "cell_type": "code",
      "execution_count": null,
      "metadata": {
        "colab": {
          "base_uri": "https://localhost:8080/"
        },
        "id": "UBj0116rdf8D",
        "outputId": "2b2cdf00-1bf8-4019-eaae-8afbc4550274"
      },
      "outputs": [
        {
          "name": "stderr",
          "output_type": "stream",
          "text": [
            "WARNING:absl:You are saving your model as an HDF5 file via `model.save()` or `keras.saving.save_model(model)`. This file format is considered legacy. We recommend using instead the native Keras format, e.g. `model.save('my_model.keras')` or `keras.saving.save_model(model, 'my_model.keras')`. \n"
          ]
        }
      ],
      "source": [
        "model.save(\"SegNet.h5\")"
      ]
    },
    {
      "cell_type": "code",
      "execution_count": null,
      "metadata": {
        "colab": {
          "base_uri": "https://localhost:8080/"
        },
        "id": "_s_uxfxBek93",
        "outputId": "1b06b43c-b0a3-4b6f-9fb7-a3abce40916b"
      },
      "outputs": [
        {
          "name": "stdout",
          "output_type": "stream",
          "text": [
            "\u001b[1m681/681\u001b[0m \u001b[32m━━━━━━━━━━━━━━━━━━━━\u001b[0m\u001b[37m\u001b[0m \u001b[1m44s\u001b[0m 65ms/step - accuracy: 0.2235 - loss: 2.8875\n",
            "Test Accuracy: 21.33%\n",
            "Test Loss: 2.9110\n"
          ]
        }
      ],
      "source": [
        "test_loss, test_accuracy = model.evaluate(test_generator)\n",
        "\n",
        "print(f\"Test Accuracy: {test_accuracy * 100:.2f}%\")\n",
        "print(f\"Test Loss: {test_loss:.4f}\")"
      ]
    },
    {
      "cell_type": "code",
      "execution_count": null,
      "metadata": {},
      "outputs": [],
      "source": []
    },
    {
      "cell_type": "code",
      "execution_count": null,
      "metadata": {},
      "outputs": [],
      "source": []
    }
  ],
  "metadata": {
    "accelerator": "GPU",
    "colab": {
      "gpuType": "T4",
      "provenance": []
    },
    "kernelspec": {
      "display_name": "Python 3",
      "name": "python3"
    },
    "language_info": {
      "codemirror_mode": {
        "name": "ipython",
        "version": 3
      },
      "file_extension": ".py",
      "mimetype": "text/x-python",
      "name": "python",
      "nbconvert_exporter": "python",
      "pygments_lexer": "ipython3",
      "version": "3.10.0"
    }
  },
  "nbformat": 4,
  "nbformat_minor": 0
}
